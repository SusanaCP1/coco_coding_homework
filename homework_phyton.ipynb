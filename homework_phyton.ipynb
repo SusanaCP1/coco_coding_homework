{
 "cells": [
  {
   "cell_type": "raw",
   "id": "a2ab27fd-a084-4168-a533-ab995e5c7db6",
   "metadata": {},
   "source": [
    "Task 1\n",
    "\n",
    "1. Crea una lista con los nombres de todos los planetas del sistema solar (en orden)"
   ]
  },
  {
   "cell_type": "code",
   "execution_count": 7,
   "id": "7be8da7d-c8e5-4c62-9019-3adbfd7a0ac5",
   "metadata": {
    "tags": []
   },
   "outputs": [
    {
     "data": {
      "text/plain": [
       "['Mercurio',\n",
       " 'Venus',\n",
       " 'Tierra',\n",
       " 'Marte',\n",
       " 'Jupiter',\n",
       " 'Saturno',\n",
       " 'Urano',\n",
       " 'Neptuno']"
      ]
     },
     "execution_count": 7,
     "metadata": {},
     "output_type": "execute_result"
    }
   ],
   "source": [
    "planetas = [\"Mercurio\", \"Venus\", \"Tierra\", \"Marte\", \"Jupiter\", \"Saturno\", \"Urano\", \"Neptuno\"]\n",
    "planetas"
   ]
  },
  {
   "cell_type": "markdown",
   "id": "d1764b9a-65dc-46ca-91ed-3bd0eea85b7a",
   "metadata": {},
   "source": [
    "2. Haz que Python te diga cuántos planetas hay examinando tu lista"
   ]
  },
  {
   "cell_type": "code",
   "execution_count": 9,
   "id": "76ece82f-966a-413f-99e2-9051937882bc",
   "metadata": {},
   "outputs": [
    {
     "data": {
      "text/plain": [
       "8"
      ]
     },
     "execution_count": 9,
     "metadata": {},
     "output_type": "execute_result"
    }
   ],
   "source": [
    "len(planetas)"
   ]
  },
  {
   "cell_type": "markdown",
   "id": "e2647b97-0f11-4484-963e-b4c91a8f3852",
   "metadata": {},
   "source": [
    "3. Muestre los primeros cuatro planetas del sistema solar (los planetas rocosos)"
   ]
  },
  {
   "cell_type": "code",
   "execution_count": 13,
   "id": "3bff6986-0f51-44c7-9c65-807ff4a78b93",
   "metadata": {},
   "outputs": [
    {
     "name": "stdout",
     "output_type": "stream",
     "text": [
      "Planetas Rocosos: ['Mercurio', 'Venus', 'Tierra', 'Marte']\n"
     ]
    }
   ],
   "source": [
    "print(\"Planetas Rocosos:\", planetas[0:4])"
   ]
  },
  {
   "cell_type": "markdown",
   "id": "872bd488-3d07-498a-8270-8f81b83b9a32",
   "metadata": {},
   "source": [
    "4.Imprimir el nombre del planeta que tiene una s al final de su nombre"
   ]
  },
  {
   "cell_type": "code",
   "execution_count": 14,
   "id": "6e71f93e-3a7d-42ab-af1e-119b146c5b0a",
   "metadata": {},
   "outputs": [
    {
     "name": "stdout",
     "output_type": "stream",
     "text": [
      "Venus\n"
     ]
    }
   ],
   "source": [
    "print(planetas[1])"
   ]
  },
  {
   "cell_type": "raw",
   "id": "01df38d3-681f-4f88-bf3c-8d4134a8522a",
   "metadata": {},
   "source": [
    "Task 2\n",
    "1. Asignar el dato recibido a una variable.\n",
    "2.Aplicar la transformación de unidades usando esta variable.\n",
    "3.Guardar el dato en Celsius en otra variable.\n",
    "4.Utilizar la función print para mostrar ambos resultados"
   ]
  },
  {
   "cell_type": "code",
   "execution_count": 2,
   "id": "147afa77-0cab-4b7d-933e-10309e8d000a",
   "metadata": {},
   "outputs": [],
   "source": [
    "T = 30.3"
   ]
  },
  {
   "cell_type": "code",
   "execution_count": 3,
   "id": "5f8ee63e-d58d-4d03-af36-2f4a5780bb07",
   "metadata": {},
   "outputs": [
    {
     "data": {
      "text/plain": [
       "-0.9444444444444441"
      ]
     },
     "execution_count": 3,
     "metadata": {},
     "output_type": "execute_result"
    }
   ],
   "source": [
    "C = (5/9)*(T-32)\n",
    "C"
   ]
  },
  {
   "cell_type": "code",
   "execution_count": 5,
   "id": "59f66503-7815-4077-b2ad-b5fe6389a9e3",
   "metadata": {},
   "outputs": [
    {
     "name": "stdout",
     "output_type": "stream",
     "text": [
      "Grados Farenheit: 30.3 Grados Celsius: -0.9444444444444441\n"
     ]
    }
   ],
   "source": [
    "print (\"Grados Farenheit:\", T,\n",
    "       \"Grados Celsius:\", C)"
   ]
  },
  {
   "cell_type": "raw",
   "id": "b31cfd44-eb0e-4658-939c-623cb0abf819",
   "metadata": {},
   "source": [
    "Task 3\n",
    "investigue la documentación de la librería numpy para \"reshape\" o reformular el array para que sea de 4x4."
   ]
  },
  {
   "cell_type": "code",
   "execution_count": 8,
   "id": "213c893b-9194-4322-8b3e-142b41d12571",
   "metadata": {},
   "outputs": [
    {
     "data": {
      "text/plain": [
       "array([ 1,  2,  3,  4,  5,  6,  7,  8,  9, 10, 11, 12, 13, 14, 15, 16])"
      ]
     },
     "execution_count": 8,
     "metadata": {},
     "output_type": "execute_result"
    }
   ],
   "source": [
    "import numpy as np\n",
    "\n",
    "array = np.array([ 1, 2, 3, 4, 5, 6, 7, 8, 9, 10, 11, 12, 13, 14, 15, 16])\n",
    "array"
   ]
  },
  {
   "cell_type": "code",
   "execution_count": 10,
   "id": "a9f7513e-d77c-420b-a5c2-240c2e4d54c1",
   "metadata": {},
   "outputs": [
    {
     "data": {
      "text/plain": [
       "array([[ 1,  2,  3,  4],\n",
       "       [ 5,  6,  7,  8],\n",
       "       [ 9, 10, 11, 12],\n",
       "       [13, 14, 15, 16]])"
      ]
     },
     "execution_count": 10,
     "metadata": {},
     "output_type": "execute_result"
    }
   ],
   "source": [
    "reshape = np.reshape(array, (4,4))\n",
    "reshape"
   ]
  },
  {
   "cell_type": "raw",
   "id": "85fc690a-41ef-4b2a-bc69-5f66f76fa1ae",
   "metadata": {},
   "source": [
    "Task 4\n",
    "Calcule el seno y el coseno de los ángulos: 0, 30, 45, 60 y 90 dados en grados:\n",
    "\n",
    "    1. Cree un array con los ángulos mencionados en grados.\n",
    "    2. Convierta los ángulos a radianes.\n",
    "    3. Calcule el seno y el coseno de estos ángulos y guárdelos en dos arrays diferentes.\n"
   ]
  },
  {
   "cell_type": "code",
   "execution_count": 19,
   "id": "26733650-a421-456b-81da-56bfdcdc2366",
   "metadata": {},
   "outputs": [
    {
     "data": {
      "text/plain": [
       "array([0.        , 0.52359878, 0.78539816, 1.04719755, 1.57079633])"
      ]
     },
     "execution_count": 19,
     "metadata": {},
     "output_type": "execute_result"
    }
   ],
   "source": [
    "grados = np.array([0,30,45,60,90])\n",
    "\n",
    "con_Rad = np.pi/180 #Factor Conversion a radianes\n",
    "\n",
    "Radianes = grados*con_Rad\n",
    "Radianes"
   ]
  },
  {
   "cell_type": "code",
   "execution_count": 35,
   "id": "b58eef71-f4c6-4d07-9cc1-a21666b442fc",
   "metadata": {},
   "outputs": [
    {
     "data": {
      "text/plain": [
       "array([0.        , 0.5       , 0.70710678, 0.8660254 , 1.        ])"
      ]
     },
     "execution_count": 35,
     "metadata": {},
     "output_type": "execute_result"
    }
   ],
   "source": [
    "seno = np.sin(Radianes)\n",
    "seno"
   ]
  },
  {
   "cell_type": "code",
   "execution_count": 37,
   "id": "a4d55c85-f978-4a05-a6b3-4b5b5f467c39",
   "metadata": {},
   "outputs": [
    {
     "data": {
      "text/plain": [
       "array([1.00000000e+00, 8.66025404e-01, 7.07106781e-01, 5.00000000e-01,\n",
       "       6.12323400e-17])"
      ]
     },
     "execution_count": 37,
     "metadata": {},
     "output_type": "execute_result"
    }
   ],
   "source": [
    "coseno = np.cos(Radianes)\n",
    "coseno"
   ]
  },
  {
   "cell_type": "code",
   "execution_count": null,
   "id": "a8373627-6764-4595-9d60-dc286f4a141c",
   "metadata": {},
   "outputs": [],
   "source": []
  }
 ],
 "metadata": {
  "kernelspec": {
   "display_name": "CoCo",
   "language": "python",
   "name": "coco"
  },
  "language_info": {
   "codemirror_mode": {
    "name": "ipython",
    "version": 3
   },
   "file_extension": ".py",
   "mimetype": "text/x-python",
   "name": "python",
   "nbconvert_exporter": "python",
   "pygments_lexer": "ipython3",
   "version": "3.10.4"
  }
 },
 "nbformat": 4,
 "nbformat_minor": 5
}
