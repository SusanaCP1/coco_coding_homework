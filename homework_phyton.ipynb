{
 "cells": [
  {
   "cell_type": "markdown",
   "id": "11c14767-c1ca-4da3-893b-a656fbe25996",
   "metadata": {},
   "source": [
    "Tarea 1\n",
    "\n",
    "1. Crea una lista con los nombres de todos los planetas del sistema solar (en orden)"
   ]
  },
  {
   "cell_type": "code",
   "execution_count": 7,
   "id": "7be8da7d-c8e5-4c62-9019-3adbfd7a0ac5",
   "metadata": {
    "tags": []
   },
   "outputs": [
    {
     "data": {
      "text/plain": [
       "['Mercurio',\n",
       " 'Venus',\n",
       " 'Tierra',\n",
       " 'Marte',\n",
       " 'Jupiter',\n",
       " 'Saturno',\n",
       " 'Urano',\n",
       " 'Neptuno']"
      ]
     },
     "execution_count": 7,
     "metadata": {},
     "output_type": "execute_result"
    }
   ],
   "source": [
    "planetas = [\"Mercurio\", \"Venus\", \"Tierra\", \"Marte\", \"Jupiter\", \"Saturno\", \"Urano\", \"Neptuno\"]\n",
    "planetas"
   ]
  },
  {
   "cell_type": "markdown",
   "id": "d1764b9a-65dc-46ca-91ed-3bd0eea85b7a",
   "metadata": {},
   "source": [
    "2. Haz que Python te diga cuántos planetas hay examinando tu lista"
   ]
  },
  {
   "cell_type": "code",
   "execution_count": 9,
   "id": "76ece82f-966a-413f-99e2-9051937882bc",
   "metadata": {},
   "outputs": [
    {
     "data": {
      "text/plain": [
       "8"
      ]
     },
     "execution_count": 9,
     "metadata": {},
     "output_type": "execute_result"
    }
   ],
   "source": [
    "len(planetas)"
   ]
  },
  {
   "cell_type": "markdown",
   "id": "e2647b97-0f11-4484-963e-b4c91a8f3852",
   "metadata": {},
   "source": [
    "3. Muestre los primeros cuatro planetas del sistema solar (los planetas rocosos)"
   ]
  },
  {
   "cell_type": "code",
   "execution_count": 13,
   "id": "3bff6986-0f51-44c7-9c65-807ff4a78b93",
   "metadata": {},
   "outputs": [
    {
     "name": "stdout",
     "output_type": "stream",
     "text": [
      "Planetas Rocosos: ['Mercurio', 'Venus', 'Tierra', 'Marte']\n"
     ]
    }
   ],
   "source": [
    "print(\"Planetas Rocosos:\", planetas[0:4])"
   ]
  },
  {
   "cell_type": "markdown",
   "id": "872bd488-3d07-498a-8270-8f81b83b9a32",
   "metadata": {},
   "source": [
    "4.Imprimir el nombre del planeta que tiene una s al final de su nombre"
   ]
  },
  {
   "cell_type": "code",
   "execution_count": 14,
   "id": "6e71f93e-3a7d-42ab-af1e-119b146c5b0a",
   "metadata": {},
   "outputs": [
    {
     "name": "stdout",
     "output_type": "stream",
     "text": [
      "Venus\n"
     ]
    }
   ],
   "source": [
    "print(planetas[1])"
   ]
  }
 ],
 "metadata": {
  "kernelspec": {
   "display_name": "CoCo",
   "language": "python",
   "name": "coco"
  },
  "language_info": {
   "codemirror_mode": {
    "name": "ipython",
    "version": 3
   },
   "file_extension": ".py",
   "mimetype": "text/x-python",
   "name": "python",
   "nbconvert_exporter": "python",
   "pygments_lexer": "ipython3",
   "version": "3.10.4"
  }
 },
 "nbformat": 4,
 "nbformat_minor": 5
}

# Primer ejercicio realizado
