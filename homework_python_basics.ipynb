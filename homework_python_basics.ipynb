#Coding Homework 

1. list of planets
