{
 "cells": [
  {
   "cell_type": "markdown",
   "id": "0b9f5053-be6e-4167-95d5-52c6d97f678b",
   "metadata": {},
   "source": [
    "1º Task\n",
    "1. Convert the following list of temperatures in Fahrenheit to Celsius with a for loop. temperatures_f = [30.2, 41, 115.7, 77, 130.46, 59, 86, 63.5, 23]"
   ]
  },
  {
   "cell_type": "code",
   "execution_count": 10,
   "id": "2bc11f77-b6da-420f-bc5d-cf11d0ea9bfb",
   "metadata": {},
   "outputs": [],
   "source": [
    "temperature_F = [30.2, 41, 115.7, 77, 130.46, 59, 86, 63.5, 23]"
   ]
  },
  {
   "cell_type": "code",
   "execution_count": 13,
   "id": "e339dfc5-865c-40d3-950d-22a7af9e1756",
   "metadata": {},
   "outputs": [
    {
     "name": "stdout",
     "output_type": "stream",
     "text": [
      "-1.0000000000000004\n",
      "5.0\n",
      "46.50000000000001\n",
      "25.0\n",
      "54.70000000000001\n",
      "15.0\n",
      "30.0\n",
      "17.5\n",
      "-5.0\n"
     ]
    }
   ],
   "source": [
    "#for loop\n",
    "\n",
    "for farenheit in temperature_F:\n",
    "    celsius = (5/9)*(farenheit - 32) #Function to transform ºF to ºC\n",
    "    print(celsius)\n",
    "    "
   ]
  },
  {
   "cell_type": "markdown",
   "id": "45020130-0b60-48b1-af6f-93e0ef4798d1",
   "metadata": {},
   "source": [
    "2. Use for loops and conditionals to generate a temperature alert for:\n",
    "\n",
    "    1. low temperatures (less or equal than 0°C)\n",
    "    2. high temperatures (greater or equal than 35°C)\n",
    "    3. normal temperatures (between 0°C and 35°C)"
   ]
  },
  {
   "cell_type": "code",
   "execution_count": 3,
   "id": "61b5a507-2b89-4310-b7e9-20d26b809864",
   "metadata": {},
   "outputs": [
    {
     "name": "stdout",
     "output_type": "stream",
     "text": [
      "[-1.0000000000000004, 5.0, 46.50000000000001, 25.0, 54.70000000000001, 15.0, 30.0, 17.5, -5.0]\n"
     ]
    }
   ],
   "source": [
    "#For Loop \n",
    "temperature_F = [30.2, 41, 115.7, 77, 130.46, 59, 86, 63.5, 23]\n",
    "\n",
    "T_Celsius = []\n",
    "\n",
    "for farenheit in temperature_F:\n",
    "    celsius= (5/9)*(farenheit - 32)\n",
    "    T_Celsius.append(celsius)\n",
    "    \n",
    "print(T_Celsius)\n"
   ]
  },
  {
   "cell_type": "code",
   "execution_count": 10,
   "id": "ab0857fc-d446-427a-b716-3d70cf8e9e04",
   "metadata": {},
   "outputs": [
    {
     "name": "stdout",
     "output_type": "stream",
     "text": [
      "-1.0000000000000004 Low temperatures\n",
      "5.0 Normal temperatures\n",
      "46.50000000000001 High temperatures\n",
      "25.0 Normal temperatures\n",
      "54.70000000000001 High temperatures\n",
      "15.0 Normal temperatures\n",
      "30.0 Normal temperatures\n",
      "17.5 Normal temperatures\n",
      "-5.0 Low temperatures\n"
     ]
    }
   ],
   "source": [
    "for C in T_Celsius:\n",
    "    if C <= 0:\n",
    "        print(C, 'Low temperatures')\n",
    "    elif C >= 35:\n",
    "        print(C, 'High temperatures')\n",
    "    else:\n",
    "        print(C, 'Normal temperatures')\n"
   ]
  },
  {
   "cell_type": "markdown",
   "id": "8b4e583a-f3d6-4d4e-bceb-b3ed25dac630",
   "metadata": {},
   "source": [
    "3. Generate two functions:\n",
    "\n",
    "    1. a function that takes a single value of temperature in Fahrenheit and returns the same value in Celsius.\n",
    "    2. a function that takes a single temperature value and prints its corresponding temperature alert.\n",
    "   \n",
    "   3. Use a for loop to iterate over the temperature values in Fahrenheit: convert the value to Celsius and print the alert. Use the two functions to do so."
   ]
  },
  {
   "cell_type": "code",
   "execution_count": 3,
   "id": "bba91ff7-f50a-4554-8506-4b080b7db016",
   "metadata": {},
   "outputs": [
    {
     "data": {
      "text/plain": [
       "12.222222222222223"
      ]
     },
     "execution_count": 3,
     "metadata": {},
     "output_type": "execute_result"
    }
   ],
   "source": [
    "# A.\n",
    "\n",
    "def celsius(Fahrenheit):\n",
    "    return (5/9)*(Fahrenheit - 32)\n",
    "\n",
    "celsius(54)"
   ]
  },
  {
   "cell_type": "code",
   "execution_count": 14,
   "id": "207da8fb-9f5e-40aa-bc18-ff105fe03006",
   "metadata": {},
   "outputs": [
    {
     "name": "stdout",
     "output_type": "stream",
     "text": [
      "40 High temperature\n"
     ]
    }
   ],
   "source": [
    "# B.\n",
    "def alert(celsius):\n",
    "    if celsius <= 0:\n",
    "        print(celsius, 'Low temperature')\n",
    "    elif celsius >= 35:\n",
    "        print(celsius, 'High temperature')\n",
    "    else:\n",
    "        print(celsius, 'Normal temperature')\n",
    "        \n",
    "        \n",
    "alert(40)"
   ]
  },
  {
   "cell_type": "code",
   "execution_count": 15,
   "id": "bd9d1ba7-d39f-4f85-97d9-509c553e718c",
   "metadata": {},
   "outputs": [
    {
     "name": "stdout",
     "output_type": "stream",
     "text": [
      "13.88888888888889 Normal temperature\n"
     ]
    }
   ],
   "source": [
    "# C.\n",
    "\n",
    "def temperature(fahrenheit):\n",
    "    celsius= (5/9)*(fahrenheit - 32)\n",
    "    if celsius <= 0:\n",
    "        print(celsius, 'Low temperature')\n",
    "    elif celsius >= 35:\n",
    "        print(celsius, 'High temperature')\n",
    "    else:\n",
    "        print(celsius, 'Normal temperature')\n",
    "        \n",
    "temperature(57)"
   ]
  },
  {
   "cell_type": "markdown",
   "id": "4d3e8a24-8946-43bf-8525-44ac3388253d",
   "metadata": {},
   "source": [
    "2º Task\n",
    "\n",
    "Your local airport is famous for its bad weather conditions. They need a tower operator to be constantly monitoring the weather conditions, specially the wind speed and the visibility.\n",
    "\n",
    "    - If the wind speed is greater than 12 knots, then the runway must be closed and no plane can takeoff.\n",
    "    - If the visibility is lower than 100 meters, they should also close the runway.\n",
    "    - If the wind speed is between 8 kt and 12 kt, they should warn pilots of high wind speeds.\n",
    "    - If the visiblity is between 100 meters and 500 meters, they should warn pilots of low visibilty conditions.\n",
    "  On any other situation, the weather is good enough so the runway is open and no warning should be issued.\n",
    "\n",
    "They want to automate this warning system so the operator can have more time to assist pilots.\n",
    "\n",
    "Write a function that takes wind speed in knots and visibility in meters. The function must raise warnings of high wind speeds or low visiblity conditions, or even close the runway if the weather conditions are bad enough."
   ]
  },
  {
   "cell_type": "code",
   "execution_count": 32,
   "id": "c80abc25-19e4-47fa-b455-3f67e8517ba6",
   "metadata": {},
   "outputs": [
    {
     "name": "stdout",
     "output_type": "stream",
     "text": [
      "10 knots - 90 m : ALERT: The runway must be closed\n",
      "11 knots - 200 m : ALERT: High wind speeds\n",
      "5 knots - 300 m : ALERT: Low visibility conditions\n"
     ]
    }
   ],
   "source": [
    "def weather(knots, meters):\n",
    "    if knots > 12 or meters < 100:\n",
    "        print(knots, 'knots','-', meters,'m',':', 'ALERT: The runway must be closed')\n",
    "    elif knots > 8 and knots < 12:\n",
    "        print (knots, 'knots','-', meters,'m',':', 'ALERT: High wind speeds')\n",
    "    elif meters > 100 and meters < 500:\n",
    "        print (knots, 'knots','-', meters,'m',':', 'ALERT: Low visibility conditions')\n",
    "           \n",
    "weather(10, 90)\n",
    "weather(11, 200)\n",
    "weather(5, 300)"
   ]
  },
  {
   "cell_type": "markdown",
   "id": "0e3ba014-f122-4ad2-9c94-9da2eab1b396",
   "metadata": {},
   "source": [
    "3º Task\n",
    "\n",
    "1. Write a function that evaluates the Gaussian function and returns its value.\n",
    "2. This function must be able to accept a value of 𝜎 as an argument, assuming it by default equal to 1.\n",
    "3. Add a detailed documentation of the Gaussian function. What does the function do? What arguments does it support? What values does it return?\n",
    "4. Select at least three different values of 𝜎 and plot the Gaussians using a for loop."
   ]
  },
  {
   "cell_type": "code",
   "execution_count": 35,
   "id": "e0385fa0-8036-499d-a41b-f414b4df480c",
   "metadata": {},
   "outputs": [
    {
     "data": {
      "text/plain": [
       "0.06664492057835994"
      ]
     },
     "execution_count": 35,
     "metadata": {},
     "output_type": "execute_result"
    }
   ],
   "source": [
    "\n",
    "import numpy as np\n",
    "\n",
    "def gaussian(x, sigma=1):\n",
    "    exp = np.exp(-0.5*(x/sigma)**2)\n",
    "    div = sigma*(2*np.pi)**(1/2)\n",
    "    return exp/div\n",
    "    \n",
    "\n",
    "gaussian(3,5)\n",
    "\n"
   ]
  },
  {
   "cell_type": "code",
   "execution_count": 7,
   "id": "a58738f4-5d62-4356-81e4-40f77e7e3f4b",
   "metadata": {},
   "outputs": [],
   "source": [
    "def gaussian(x, sigma):\n",
    "    \"\"\"\n",
    "    gives the gaussian function\n",
    "    \n",
    "    Parameters\n",
    "    _____________\n",
    "    x: independent value\n",
    "        on which the function will be evaluated\n",
    "        \n",
    "    sigma: Optional \n",
    "            by default sigma = 1\n",
    "            standard deviation (sigma values)\n",
    "            \n",
    "    Returns\n",
    "    _____________\n",
    "    \n",
    "    g(x)= exp(-0.5*(x/sigma)**2) / sigma*(2*pi)**(1/2)\n",
    "    \n",
    "     \"\"\"\n",
    "    "
   ]
  },
  {
   "cell_type": "code",
   "execution_count": 8,
   "id": "820a2e2f-f055-4546-b43c-3eb6d60670eb",
   "metadata": {},
   "outputs": [
    {
     "data": {
      "text/plain": [
       "\u001b[0;31mSignature:\u001b[0m \u001b[0mgaussian\u001b[0m\u001b[0;34m(\u001b[0m\u001b[0mx\u001b[0m\u001b[0;34m,\u001b[0m \u001b[0msigma\u001b[0m\u001b[0;34m)\u001b[0m\u001b[0;34m\u001b[0m\u001b[0;34m\u001b[0m\u001b[0m\n",
       "\u001b[0;31mDocstring:\u001b[0m\n",
       "gives the gaussian function\n",
       "\n",
       "Parameters\n",
       "_____________\n",
       "x: independent value\n",
       "    on which the function will be evaluated\n",
       "    \n",
       "sigma: Optional \n",
       "        by default sigma = 1\n",
       "        standard deviation (sigma values)\n",
       "        \n",
       "Returns\n",
       "_____________\n",
       "\n",
       "g(x)= exp(-0.5*(x/sigma)**2) / sigma*(2*pi)**(1/2)\n",
       "\n",
       " \n",
       "\u001b[0;31mFile:\u001b[0m      /tmp/ipykernel_677532/2923795458.py\n",
       "\u001b[0;31mType:\u001b[0m      function\n"
      ]
     },
     "metadata": {},
     "output_type": "display_data"
    }
   ],
   "source": [
    "gaussian?"
   ]
  },
  {
   "cell_type": "code",
   "execution_count": 51,
   "id": "70f66c9f-c158-46f0-ad20-c98ffe7caef9",
   "metadata": {},
   "outputs": [],
   "source": [
    "#Graph\n",
    "import matplotlib.pyplot as plt"
   ]
  },
  {
   "cell_type": "code",
   "execution_count": 59,
   "id": "c0e8f4c9-28b8-4082-bef7-16b6c342a11e",
   "metadata": {},
   "outputs": [
    {
     "name": "stdout",
     "output_type": "stream",
     "text": [
      "[<matplotlib.lines.Line2D object at 0x7f1042a0ff10>] Legend\n",
      "[<matplotlib.lines.Line2D object at 0x7f1041dece20>] Legend\n",
      "[<matplotlib.lines.Line2D object at 0x7f1041dee230>] Legend\n"
     ]
    },
    {
     "data": {
      "image/png": "[encoded data removed]",
      "text/plain": [
       "<Figure size 432x288 with 1 Axes>"
      ]
     },
     "metadata": {
      "needs_background": "light"
     },
     "output_type": "display_data"
    }
   ],
   "source": [
    "for i in [0.5, 0.7, 1]:\n",
    "    x= np.linspace(-7, 7, 100)\n",
    "    y= gaussian(x,i)\n",
    "    print(plt.plot(x,y,label= i),\n",
    "         plt.legend())"
   ]
  }
 ],
 "metadata": {
  "kernelspec": {
   "display_name": "CoCo",
   "language": "python",
   "name": "coco"
  },
  "language_info": {
   "codemirror_mode": {
    "name": "ipython",
    "version": 3
   },
   "file_extension": ".py",
   "mimetype": "text/x-python",
   "name": "python",
   "nbconvert_exporter": "python",
   "pygments_lexer": "ipython3",
   "version": "3.10.4"
  }
 },
 "nbformat": 4,
 "nbformat_minor": 5
}
